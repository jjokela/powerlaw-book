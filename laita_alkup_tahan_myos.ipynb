{
 "cells": [
  {
   "cell_type": "code",
   "execution_count": 16,
   "metadata": {},
   "outputs": [],
   "source": [
    "#imports\n",
    "import pandas as pd\n",
    "import datetime\n",
    "import pandas_datareader.data as web\n",
    "from pandas import Series, DataFrame\n",
    "%matplotlib inline\n",
    "import matplotlib\n",
    "import matplotlib.pyplot as plt\n",
    "from matplotlib import style\n",
    "import seaborn as sns\n",
    "import numpy as np\n",
    "from statsmodels.formula.api import ols\n",
    "import statsmodels.api as sm "
   ]
  },
  {
   "cell_type": "code",
   "execution_count": 2,
   "metadata": {},
   "outputs": [],
   "source": [
    "# calculate normalized return\n",
    "def normalized_return(mean, std, ret):\n",
    "    return (ret - mean) / std"
   ]
  },
  {
   "cell_type": "code",
   "execution_count": 3,
   "metadata": {},
   "outputs": [],
   "source": [
    "# calculates the P(|return|>x)\n",
    "def distribution_function(normalized_abs_returns, x):\n",
    "    normalized_abs_returns_len = len(normalized_abs_returns)\n",
    "    points_greater_than_x = np.sum(normalized_abs_returns > x)\n",
    "    prob = points_greater_than_x / normalized_abs_returns_len\n",
    "    \n",
    "    return prob"
   ]
  },
  {
   "cell_type": "code",
   "execution_count": 4,
   "metadata": {},
   "outputs": [],
   "source": [
    "# get the (X, P(|r|>0)) -pairs\n",
    "def get_probability_distribution_x_pairs(normalized_abs_returns, x_range):\n",
    "    probability_distribution_x_pairs = []\n",
    "\n",
    "    for x in x_range:    \n",
    "        prob = distribution_function(normalized_abs_returns, x)\n",
    "        if prob > 0:\n",
    "            probability_distribution_x_pairs.append((x, prob))\n",
    "        else:\n",
    "            break\n",
    "    return probability_distribution_x_pairs"
   ]
  },
  {
   "cell_type": "markdown",
   "metadata": {},
   "source": [
    "## Load S&P500 index from Yahoo\n",
    "## Date range: 1-1-1980 to 1-9-2020\n",
    "## Data points: 10256"
   ]
  },
  {
   "cell_type": "code",
   "execution_count": 5,
   "metadata": {},
   "outputs": [
    {
     "name": "stdout",
     "output_type": "stream",
     "text": [
      "Total rows: 10256\n"
     ]
    },
    {
     "data": {
      "text/html": [
       "<div>\n",
       "<style scoped>\n",
       "    .dataframe tbody tr th:only-of-type {\n",
       "        vertical-align: middle;\n",
       "    }\n",
       "\n",
       "    .dataframe tbody tr th {\n",
       "        vertical-align: top;\n",
       "    }\n",
       "\n",
       "    .dataframe thead th {\n",
       "        text-align: right;\n",
       "    }\n",
       "</style>\n",
       "<table border=\"1\" class=\"dataframe\">\n",
       "  <thead>\n",
       "    <tr style=\"text-align: right;\">\n",
       "      <th></th>\n",
       "      <th>High</th>\n",
       "      <th>Low</th>\n",
       "      <th>Open</th>\n",
       "      <th>Close</th>\n",
       "      <th>Volume</th>\n",
       "      <th>Adj Close</th>\n",
       "    </tr>\n",
       "    <tr>\n",
       "      <th>Date</th>\n",
       "      <th></th>\n",
       "      <th></th>\n",
       "      <th></th>\n",
       "      <th></th>\n",
       "      <th></th>\n",
       "      <th></th>\n",
       "    </tr>\n",
       "  </thead>\n",
       "  <tbody>\n",
       "    <tr>\n",
       "      <th>1980-01-02</th>\n",
       "      <td>108.430000</td>\n",
       "      <td>105.290001</td>\n",
       "      <td>107.940002</td>\n",
       "      <td>105.760002</td>\n",
       "      <td>40610000</td>\n",
       "      <td>105.760002</td>\n",
       "    </tr>\n",
       "    <tr>\n",
       "      <th>1980-01-03</th>\n",
       "      <td>106.080002</td>\n",
       "      <td>103.260002</td>\n",
       "      <td>105.760002</td>\n",
       "      <td>105.220001</td>\n",
       "      <td>50480000</td>\n",
       "      <td>105.220001</td>\n",
       "    </tr>\n",
       "    <tr>\n",
       "      <th>1980-01-04</th>\n",
       "      <td>107.080002</td>\n",
       "      <td>105.089996</td>\n",
       "      <td>105.220001</td>\n",
       "      <td>106.519997</td>\n",
       "      <td>39130000</td>\n",
       "      <td>106.519997</td>\n",
       "    </tr>\n",
       "    <tr>\n",
       "      <th>1980-01-07</th>\n",
       "      <td>107.800003</td>\n",
       "      <td>105.800003</td>\n",
       "      <td>106.519997</td>\n",
       "      <td>106.809998</td>\n",
       "      <td>44500000</td>\n",
       "      <td>106.809998</td>\n",
       "    </tr>\n",
       "    <tr>\n",
       "      <th>1980-01-08</th>\n",
       "      <td>109.290001</td>\n",
       "      <td>106.290001</td>\n",
       "      <td>106.809998</td>\n",
       "      <td>108.949997</td>\n",
       "      <td>53390000</td>\n",
       "      <td>108.949997</td>\n",
       "    </tr>\n",
       "  </tbody>\n",
       "</table>\n",
       "</div>"
      ],
      "text/plain": [
       "                  High         Low        Open       Close    Volume  \\\n",
       "Date                                                                   \n",
       "1980-01-02  108.430000  105.290001  107.940002  105.760002  40610000   \n",
       "1980-01-03  106.080002  103.260002  105.760002  105.220001  50480000   \n",
       "1980-01-04  107.080002  105.089996  105.220001  106.519997  39130000   \n",
       "1980-01-07  107.800003  105.800003  106.519997  106.809998  44500000   \n",
       "1980-01-08  109.290001  106.290001  106.809998  108.949997  53390000   \n",
       "\n",
       "             Adj Close  \n",
       "Date                    \n",
       "1980-01-02  105.760002  \n",
       "1980-01-03  105.220001  \n",
       "1980-01-04  106.519997  \n",
       "1980-01-07  106.809998  \n",
       "1980-01-08  108.949997  "
      ]
     },
     "execution_count": 5,
     "metadata": {},
     "output_type": "execute_result"
    }
   ],
   "source": [
    "start = datetime.datetime(1980, 1, 1)\n",
    "end = datetime.datetime(2020, 9, 1)\n",
    "\n",
    "sp500 = web.DataReader(\"^GSPC\", 'yahoo', start, end) # S&P 500 index\n",
    "rows, cols = sp500.shape\n",
    "print('Total rows:', rows)\n",
    "sp500.head()"
   ]
  },
  {
   "cell_type": "markdown",
   "metadata": {},
   "source": [
    "## Calculate daily returns $$ (Adj Close - Open) / Open * 100 $$\n",
    "## Calculate normalized daily returns\n",
    "## $$ r^{'}_t = (r_{it} - r_i)/\\delta_{r,i} $$ where $r_i$ is the mean of the $r_{it}$, and $\\sigma_{r,i}$ is their standard deviation.\n",
    "## Normalized returns have standard deviation of 1 and mean of 0 (or close to zero)\n",
    "## Also, calculate the absolute value of normalized returns.\n",
    "## Max normalized return is 19.1, this is also the max std\n",
    "### (Gabaix, 2009)"
   ]
  },
  {
   "cell_type": "code",
   "execution_count": 6,
   "metadata": {},
   "outputs": [
    {
     "name": "stdout",
     "output_type": "stream",
     "text": [
      "mean of returns: 0.03716324210326685\n",
      "std of returns 1.0719062404165836\n",
      "max normalized return abs 19.128626430823807\n"
     ]
    },
    {
     "data": {
      "text/html": [
       "<div>\n",
       "<style scoped>\n",
       "    .dataframe tbody tr th:only-of-type {\n",
       "        vertical-align: middle;\n",
       "    }\n",
       "\n",
       "    .dataframe tbody tr th {\n",
       "        vertical-align: top;\n",
       "    }\n",
       "\n",
       "    .dataframe thead th {\n",
       "        text-align: right;\n",
       "    }\n",
       "</style>\n",
       "<table border=\"1\" class=\"dataframe\">\n",
       "  <thead>\n",
       "    <tr style=\"text-align: right;\">\n",
       "      <th></th>\n",
       "      <th>High</th>\n",
       "      <th>Low</th>\n",
       "      <th>Open</th>\n",
       "      <th>Close</th>\n",
       "      <th>Volume</th>\n",
       "      <th>Adj Close</th>\n",
       "      <th>daily_return</th>\n",
       "      <th>normalized_return</th>\n",
       "      <th>normalized_return_abs</th>\n",
       "    </tr>\n",
       "    <tr>\n",
       "      <th>Date</th>\n",
       "      <th></th>\n",
       "      <th></th>\n",
       "      <th></th>\n",
       "      <th></th>\n",
       "      <th></th>\n",
       "      <th></th>\n",
       "      <th></th>\n",
       "      <th></th>\n",
       "      <th></th>\n",
       "    </tr>\n",
       "  </thead>\n",
       "  <tbody>\n",
       "    <tr>\n",
       "      <th>2020-08-26</th>\n",
       "      <td>3481.070068</td>\n",
       "      <td>3444.149902</td>\n",
       "      <td>3449.969971</td>\n",
       "      <td>3478.729980</td>\n",
       "      <td>3754360000</td>\n",
       "      <td>3478.729980</td>\n",
       "      <td>0.833631</td>\n",
       "      <td>0.743038</td>\n",
       "      <td>0.743038</td>\n",
       "    </tr>\n",
       "    <tr>\n",
       "      <th>2020-08-27</th>\n",
       "      <td>3501.379883</td>\n",
       "      <td>3468.350098</td>\n",
       "      <td>3485.139893</td>\n",
       "      <td>3484.550049</td>\n",
       "      <td>3929560000</td>\n",
       "      <td>3484.550049</td>\n",
       "      <td>-0.016925</td>\n",
       "      <td>-0.050459</td>\n",
       "      <td>0.050459</td>\n",
       "    </tr>\n",
       "    <tr>\n",
       "      <th>2020-08-28</th>\n",
       "      <td>3509.229980</td>\n",
       "      <td>3484.320068</td>\n",
       "      <td>3494.689941</td>\n",
       "      <td>3508.010010</td>\n",
       "      <td>3855880000</td>\n",
       "      <td>3508.010010</td>\n",
       "      <td>0.381152</td>\n",
       "      <td>0.320913</td>\n",
       "      <td>0.320913</td>\n",
       "    </tr>\n",
       "    <tr>\n",
       "      <th>2020-08-31</th>\n",
       "      <td>3514.770020</td>\n",
       "      <td>3493.250000</td>\n",
       "      <td>3509.729980</td>\n",
       "      <td>3500.310059</td>\n",
       "      <td>4342290000</td>\n",
       "      <td>3500.310059</td>\n",
       "      <td>-0.268394</td>\n",
       "      <td>-0.285060</td>\n",
       "      <td>0.285060</td>\n",
       "    </tr>\n",
       "    <tr>\n",
       "      <th>2020-09-01</th>\n",
       "      <td>3528.030029</td>\n",
       "      <td>3494.600098</td>\n",
       "      <td>3507.439941</td>\n",
       "      <td>3526.649902</td>\n",
       "      <td>4083110000</td>\n",
       "      <td>3526.649902</td>\n",
       "      <td>0.547692</td>\n",
       "      <td>0.476281</td>\n",
       "      <td>0.476281</td>\n",
       "    </tr>\n",
       "  </tbody>\n",
       "</table>\n",
       "</div>"
      ],
      "text/plain": [
       "                   High          Low         Open        Close      Volume  \\\n",
       "Date                                                                         \n",
       "2020-08-26  3481.070068  3444.149902  3449.969971  3478.729980  3754360000   \n",
       "2020-08-27  3501.379883  3468.350098  3485.139893  3484.550049  3929560000   \n",
       "2020-08-28  3509.229980  3484.320068  3494.689941  3508.010010  3855880000   \n",
       "2020-08-31  3514.770020  3493.250000  3509.729980  3500.310059  4342290000   \n",
       "2020-09-01  3528.030029  3494.600098  3507.439941  3526.649902  4083110000   \n",
       "\n",
       "              Adj Close  daily_return  normalized_return  \\\n",
       "Date                                                       \n",
       "2020-08-26  3478.729980      0.833631           0.743038   \n",
       "2020-08-27  3484.550049     -0.016925          -0.050459   \n",
       "2020-08-28  3508.010010      0.381152           0.320913   \n",
       "2020-08-31  3500.310059     -0.268394          -0.285060   \n",
       "2020-09-01  3526.649902      0.547692           0.476281   \n",
       "\n",
       "            normalized_return_abs  \n",
       "Date                               \n",
       "2020-08-26               0.743038  \n",
       "2020-08-27               0.050459  \n",
       "2020-08-28               0.320913  \n",
       "2020-08-31               0.285060  \n",
       "2020-09-01               0.476281  "
      ]
     },
     "execution_count": 6,
     "metadata": {},
     "output_type": "execute_result"
    }
   ],
   "source": [
    "sp500['daily_return'] = (sp500['Adj Close'] - sp500['Open']) / sp500['Open'] * 100\n",
    "# max daily return 10.7%, min daily return -20.4%\n",
    "\n",
    "mean_of_returns = sp500['daily_return'].mean() \n",
    "std_of_returns = sp500['daily_return'].std()\n",
    "\n",
    "sp500['normalized_return'] = normalized_return(mean_of_returns, std_of_returns, sp500['daily_return'])\n",
    "sp500['normalized_return_abs'] = sp500['normalized_return'].abs()\n",
    "\n",
    "print('mean of returns:', mean_of_returns)\n",
    "print('std of returns', std_of_returns)\n",
    "print('max normalized return abs', sp500['normalized_return_abs'].max())\n",
    "\n",
    "sp500.tail()"
   ]
  },
  {
   "cell_type": "markdown",
   "metadata": {},
   "source": [
    "## This chart shows that there can be a lot of variance in the daily returns. Especially in 19-10-1987 the daily return was -20.47%"
   ]
  },
  {
   "cell_type": "code",
   "execution_count": 15,
   "metadata": {},
   "outputs": [
    {
     "name": "stdout",
     "output_type": "stream",
     "text": [
      "Date                     1987-10-19 00:00:00\n",
      "High                                   282.7\n",
      "Low                                   224.83\n",
      "Open                                   282.7\n",
      "Close                                 224.84\n",
      "Volume                             604300000\n",
      "Adj Close                             224.84\n",
      "daily_return                        -20.4669\n",
      "normalized_return                   -19.1286\n",
      "normalized_return_abs                19.1286\n",
      "Name: 1971, dtype: object\n"
     ]
    },
    {
     "data": {
      "text/plain": [
       "Text(0, 0.5, '|normalized daily return|')"
      ]
     },
     "execution_count": 15,
     "metadata": {},
     "output_type": "execute_result"
    },
    {
     "data": {
      "image/png": "[encoded data removed]",
      "text/plain": [
       "<Figure size 720x432 with 1 Axes>"
      ]
     },
     "metadata": {
      "needs_background": "light"
     },
     "output_type": "display_data"
    }
   ],
   "source": [
    "df = sp500.reset_index()\n",
    "dates = df['Date']\n",
    "returns = df['normalized_return_abs']\n",
    "\n",
    "print(df.loc[returns.idxmax()])\n",
    "\n",
    "matplotlib.rcParams.update({'font.size': 18})\n",
    "fig, axe = plt.subplots(figsize=(10, 6))\n",
    "plt.scatter(dates, returns, s=20, color='blue', label='Absolute normalized return')\n",
    "plt.legend(loc=1)\n",
    "plt.title('Absolute normalized daily returns of S&P500')\n",
    "plt.xlabel('Date')\n",
    "plt.ylabel('|normalized daily return|')"
   ]
  },
  {
   "cell_type": "markdown",
   "metadata": {},
   "source": [
    "## Calculate $ P(|return|>0) $, $ x $ pairs\n",
    "## Create two sets of data, ignore x's which result to probability of 0:\n",
    "## 1. Use the x range of 0.01 .. 20. Result is used in plots below.\n",
    "## 2. Use x range of 2..20 to examine the tails (max std is 19.1). The x range is same as Gabaix (2009) uses to examine the large standard deviations of returns. This is used later for OLS and last figure."
   ]
  },
  {
   "cell_type": "code",
   "execution_count": 8,
   "metadata": {},
   "outputs": [],
   "source": [
    "normalized_abs_returns = np.array(sp500['normalized_return_abs'])\n",
    "x_range = np.arange(2, 20, 0.01)\n",
    "probability_distribution_x_pairs = get_probability_distribution_x_pairs(normalized_abs_returns, x_range)"
   ]
  },
  {
   "cell_type": "code",
   "execution_count": 9,
   "metadata": {},
   "outputs": [],
   "source": [
    "normalized_abs_returns = np.array(sp500['normalized_return_abs'])\n",
    "x_range = np.arange(0.01, 20, 0.01)\n",
    "probability_distribution_x_pairs_larger_range = get_probability_distribution_x_pairs(normalized_abs_returns, x_range)"
   ]
  },
  {
   "cell_type": "markdown",
   "metadata": {},
   "source": [
    "## Plot the results"
   ]
  },
  {
   "cell_type": "code",
   "execution_count": 10,
   "metadata": {},
   "outputs": [
    {
     "data": {
      "text/plain": [
       "Text(0, 0.5, 'P(|return|>0)')"
      ]
     },
     "execution_count": 10,
     "metadata": {},
     "output_type": "execute_result"
    },
    {
     "data": {
      "image/png": "[encoded data removed]",
      "text/plain": [
       "<Figure size 432x288 with 1 Axes>"
      ]
     },
     "metadata": {
      "needs_background": "light"
     },
     "output_type": "display_data"
    }
   ],
   "source": [
    "plt.plot(*zip(*probability_distribution_x_pairs_larger_range))\n",
    "plt.title('P(|return|>0) as function of x')\n",
    "plt.xlabel('x (standard deviation)')\n",
    "plt.ylabel('P(|return|>0)')"
   ]
  },
  {
   "cell_type": "markdown",
   "metadata": {},
   "source": [
    "## Same as above but plotted using log axes, which results to (somewhat) straight line\n",
    "### on the bottom-right corner there's a horizontal line,  perhaps it would even out with bigger dataset OR my probability distribution funcion is wrong"
   ]
  },
  {
   "cell_type": "code",
   "execution_count": 11,
   "metadata": {},
   "outputs": [
    {
     "data": {
      "image/png": "[encoded data removed]",
      "text/plain": [
       "<Figure size 504x504 with 1 Axes>"
      ]
     },
     "metadata": {
      "needs_background": "light"
     },
     "output_type": "display_data"
    }
   ],
   "source": [
    "f, ax = plt.subplots(figsize=(7, 7))\n",
    "plt.step(*zip(*probability_distribution_x_pairs_larger_range))\n",
    "plt.title('P(|return|>0) as function of x')\n",
    "plt.xlabel('x (standard deviation)')\n",
    "plt.ylabel('P(|return|>0)')\n",
    "plt.xscale('log')\n",
    "plt.yscale('log')\n",
    "plt.show()"
   ]
  },
  {
   "cell_type": "markdown",
   "metadata": {},
   "source": [
    "## Ordinary Least Squares regression\n",
    "### get the ln of x and probability distributions and use those in model"
   ]
  },
  {
   "cell_type": "code",
   "execution_count": 12,
   "metadata": {},
   "outputs": [
    {
     "name": "stdout",
     "output_type": "stream",
     "text": [
      "                            OLS Regression Results                            \n",
      "==============================================================================\n",
      "Dep. Variable:                      y   R-squared:                       0.939\n",
      "Model:                            OLS   Adj. R-squared:                  0.939\n",
      "Method:                 Least Squares   F-statistic:                 2.614e+04\n",
      "Date:                Thu, 17 Sep 2020   Prob (F-statistic):               0.00\n",
      "Time:                        20:31:35   Log-Likelihood:                -1045.1\n",
      "No. Observations:                1713   AIC:                             2094.\n",
      "Df Residuals:                    1711   BIC:                             2105.\n",
      "Df Model:                           1                                         \n",
      "Covariance Type:            nonrobust                                         \n",
      "==============================================================================\n",
      "                 coef    std err          t      P>|t|      [0.025      0.975]\n",
      "------------------------------------------------------------------------------\n",
      "const         -1.2176      0.043    -28.626      0.000      -1.301      -1.134\n",
      "x1            -3.0049      0.019   -161.691      0.000      -3.041      -2.968\n",
      "==============================================================================\n",
      "Omnibus:                       63.559   Durbin-Watson:                   0.003\n",
      "Prob(Omnibus):                  0.000   Jarque-Bera (JB):               57.457\n",
      "Skew:                          -0.391   Prob(JB):                     3.34e-13\n",
      "Kurtosis:                       2.560   Cond. No.                         10.7\n",
      "==============================================================================\n",
      "\n",
      "Warnings:\n",
      "[1] Standard Errors assume that the covariance matrix of the errors is correctly specified.\n"
     ]
    }
   ],
   "source": [
    "df = pd.DataFrame(data=probability_distribution_x_pairs, columns=[\"x\", \"prob\"])\n",
    "X = np.array(df['x'])\n",
    "Y = np.array(df['prob'])\n",
    "X_log = np.log(X)\n",
    "Y_log = np.log(Y)\n",
    "X_log = sm.add_constant(X_log) \n",
    "result = sm.OLS(Y_log, X_log).fit()\n",
    "print(result.summary())"
   ]
  },
  {
   "cell_type": "markdown",
   "metadata": {},
   "source": [
    "## Power law function:\n",
    "## $Y = aX^\\beta$, where $Y$ and $X$ are variables of interest, $\\beta$ is called the power law exponent, and $a$ is typically an unremarkable constant  \n",
    "## $ P(|r|>X) = aX^\\beta  $\n",
    "## $ ln(P(|r|>X) = ln(a) + \\beta * ln(X) $ <br/>\n",
    "## From the OLS regression results: $ ln(a) = -1.2176 $, $ \\beta = -3.0049 $\n",
    "## $ ln(P(|r|>X) = -1.2176 -3.0049 * ln(X) $\n",
    "## $ e^{ln(P(|r|>X)} = e^{-1.2716-3.0049*ln(x)} $\n",
    "## $ P(|r|>X) = 0.2959 * X^{-3.0049} $ <br/>\n",
    "\n",
    "## Gopikrishnan et al. (1999) found that the distribution function of returns for the 1000 largest U.S. stocks and several major international indices is:\n",
    "## $ P(|r_t| > x) = \\frac{a}{x^\\zeta} $\n",
    "## with ζ = 3, the so-called “cubic” law of stock market returns\n",
    "\n",
    "## (Gabaix 2003, 2009, 2016) find the same: $\\zeta$ is close to 3 with the formulas they use below:\n",
    "## $ P(|r_t|) \\sim X^{-\\zeta}  $\n",
    "## $ P(|r_t|) \\sim kX^{-\\zeta}  $"
   ]
  },
  {
   "cell_type": "markdown",
   "metadata": {},
   "source": [
    "## Create a trend line"
   ]
  },
  {
   "cell_type": "code",
   "execution_count": 13,
   "metadata": {},
   "outputs": [
    {
     "data": {
      "text/html": [
       "<div>\n",
       "<style scoped>\n",
       "    .dataframe tbody tr th:only-of-type {\n",
       "        vertical-align: middle;\n",
       "    }\n",
       "\n",
       "    .dataframe tbody tr th {\n",
       "        vertical-align: top;\n",
       "    }\n",
       "\n",
       "    .dataframe thead th {\n",
       "        text-align: right;\n",
       "    }\n",
       "</style>\n",
       "<table border=\"1\" class=\"dataframe\">\n",
       "  <thead>\n",
       "    <tr style=\"text-align: right;\">\n",
       "      <th></th>\n",
       "      <th>x</th>\n",
       "      <th>prob_hat</th>\n",
       "      <th>prob</th>\n",
       "    </tr>\n",
       "  </thead>\n",
       "  <tbody>\n",
       "    <tr>\n",
       "      <th>0</th>\n",
       "      <td>2.00</td>\n",
       "      <td>0.036862</td>\n",
       "      <td>0.048459</td>\n",
       "    </tr>\n",
       "    <tr>\n",
       "      <th>1</th>\n",
       "      <td>2.01</td>\n",
       "      <td>0.036314</td>\n",
       "      <td>0.048167</td>\n",
       "    </tr>\n",
       "    <tr>\n",
       "      <th>2</th>\n",
       "      <td>2.02</td>\n",
       "      <td>0.035776</td>\n",
       "      <td>0.047484</td>\n",
       "    </tr>\n",
       "    <tr>\n",
       "      <th>3</th>\n",
       "      <td>2.03</td>\n",
       "      <td>0.035249</td>\n",
       "      <td>0.046997</td>\n",
       "    </tr>\n",
       "  </tbody>\n",
       "</table>\n",
       "</div>"
      ],
      "text/plain": [
       "      x  prob_hat      prob\n",
       "0  2.00  0.036862  0.048459\n",
       "1  2.01  0.036314  0.048167\n",
       "2  2.02  0.035776  0.047484\n",
       "3  2.03  0.035249  0.046997"
      ]
     },
     "execution_count": 13,
     "metadata": {},
     "output_type": "execute_result"
    }
   ],
   "source": [
    "#df = pd.DataFrame(data=probability_distribution_x_pairs, columns=[\"x\", \"prob\"])\n",
    "prob_hat = (df['x'] ** (-3.0049)) * 0.2959\n",
    "df.insert(loc=1, value=prob_hat, column='prob_hat')\n",
    "df.head(4)"
   ]
  },
  {
   "cell_type": "code",
   "execution_count": 14,
   "metadata": {},
   "outputs": [
    {
     "data": {
      "image/png": "[encoded data removed]",
      "text/plain": [
       "<Figure size 720x432 with 1 Axes>"
      ]
     },
     "metadata": {
      "needs_background": "light"
     },
     "output_type": "display_data"
    }
   ],
   "source": [
    "matplotlib.rcParams.update({'font.size': 18})\n",
    "fig, axe = plt.subplots(figsize=(10, 6))\n",
    "\n",
    "#plt.scatter(df['x'], df['prob'], s=50, color='red', label='Prob')\n",
    "plt.plot(df['x'], df['prob'], color='red', label='P(|r|>0)')\n",
    "plt.plot(df['x'], df['prob_hat'], lw=3, color='blue', label='Trend line')\n",
    "plt.legend(loc=1)\n",
    "plt.title('Standard deviations of range 2<=x<=20, slope = -3.0049. Axes are logarithmic.')\n",
    "plt.xlabel('x (standard deviations)')\n",
    "plt.ylabel('P(|r|>0)')\n",
    "plt.xscale('log')\n",
    "plt.yscale('log')"
   ]
  },
  {
   "cell_type": "markdown",
   "metadata": {},
   "source": [
    "## In this sample  $\\zeta$ is close to 3, too. This means that returns are distributed with a power law $ P(|r|>x)x^{-\\zeta_t} $ for large x between 2 and 20 standard deviations of returns."
   ]
  }
 ],
 "metadata": {
  "kernelspec": {
   "display_name": "Python 3",
   "language": "python",
   "name": "python3"
  },
  "language_info": {
   "codemirror_mode": {
    "name": "ipython",
    "version": 3
   },
   "file_extension": ".py",
   "mimetype": "text/x-python",
   "name": "python",
   "nbconvert_exporter": "python",
   "pygments_lexer": "ipython3",
   "version": "3.7.3"
  }
 },
 "nbformat": 4,
 "nbformat_minor": 4
}
