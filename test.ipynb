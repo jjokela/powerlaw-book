{
 "cells": [
  {
   "cell_type": "code",
   "execution_count": 1,
   "metadata": {},
   "outputs": [],
   "source": [
    "# load some market data for SP500 index\n",
    "# create func of normalized returns\n",
    "# create dataset with normalized returns\n",
    "# examine it, plot it! what are its values? what are the ranges?\n",
    "\n",
    "\n",
    "\n",
    "# create distribution function ?\n",
    "\n",
    "# create datasets:\n",
    "# market returns\n",
    "# normalized returns\n",
    "# \n",
    "\n",
    "# plot the data in normal plot\n",
    "\n",
    "# plot data in log-log plot\n",
    "\n",
    "# create func for pow\n",
    "# create a series of data for it\n",
    "# try to see if you can plot it"
   ]
  },
  {
   "cell_type": "code",
   "execution_count": 2,
   "metadata": {},
   "outputs": [],
   "source": [
    "import pandas as pd\n",
    "import datetime\n",
    "import pandas_datareader.data as web\n",
    "from pandas import Series, DataFrame\n",
    "%matplotlib inline\n",
    "import matplotlib\n",
    "import matplotlib.pyplot as plt\n",
    "from matplotlib import style\n",
    "import seaborn as sns\n",
    "import numpy as np\n",
    "from statsmodels.formula.api import ols\n",
    "import statsmodels.api as sm "
   ]
  },
  {
   "cell_type": "code",
   "execution_count": 3,
   "metadata": {},
   "outputs": [],
   "source": [
    "def normalized_return(mean, std, ret):\n",
    "    return (ret - mean) / std"
   ]
  },
  {
   "cell_type": "code",
   "execution_count": 4,
   "metadata": {},
   "outputs": [],
   "source": [
    "def distribution_function(all_points, x):\n",
    "    all_points_len = len(all_points)\n",
    "    points_greater_than_x = np.sum(all_points > x)\n",
    "\n",
    "    return points_greater_than_x / all_points_len"
   ]
  },
  {
   "cell_type": "code",
   "execution_count": 5,
   "metadata": {},
   "outputs": [],
   "source": [
    "start = datetime.datetime(1980, 1, 1)\n",
    "end = datetime.datetime(2020, 9, 1)\n",
    "\n",
    "sp500 = web.DataReader(\"^GSPC\", 'yahoo', start, end) # S&P 500 index"
   ]
  },
  {
   "cell_type": "code",
   "execution_count": 6,
   "metadata": {},
   "outputs": [
    {
     "name": "stdout",
     "output_type": "stream",
     "text": [
      "mean of returns: 0.03716324210326685\n",
      "std of returns 1.0719062404165836\n"
     ]
    },
    {
     "data": {
      "text/html": [
       "<div>\n",
       "<style scoped>\n",
       "    .dataframe tbody tr th:only-of-type {\n",
       "        vertical-align: middle;\n",
       "    }\n",
       "\n",
       "    .dataframe tbody tr th {\n",
       "        vertical-align: top;\n",
       "    }\n",
       "\n",
       "    .dataframe thead th {\n",
       "        text-align: right;\n",
       "    }\n",
       "</style>\n",
       "<table border=\"1\" class=\"dataframe\">\n",
       "  <thead>\n",
       "    <tr style=\"text-align: right;\">\n",
       "      <th></th>\n",
       "      <th>High</th>\n",
       "      <th>Low</th>\n",
       "      <th>Open</th>\n",
       "      <th>Close</th>\n",
       "      <th>Volume</th>\n",
       "      <th>Adj Close</th>\n",
       "      <th>daily_return</th>\n",
       "      <th>normalized_return</th>\n",
       "      <th>normalized_return_abs</th>\n",
       "    </tr>\n",
       "    <tr>\n",
       "      <th>Date</th>\n",
       "      <th></th>\n",
       "      <th></th>\n",
       "      <th></th>\n",
       "      <th></th>\n",
       "      <th></th>\n",
       "      <th></th>\n",
       "      <th></th>\n",
       "      <th></th>\n",
       "      <th></th>\n",
       "    </tr>\n",
       "  </thead>\n",
       "  <tbody>\n",
       "    <tr>\n",
       "      <th>2020-08-26</th>\n",
       "      <td>3481.070068</td>\n",
       "      <td>3444.149902</td>\n",
       "      <td>3449.969971</td>\n",
       "      <td>3478.729980</td>\n",
       "      <td>3754360000</td>\n",
       "      <td>3478.729980</td>\n",
       "      <td>0.833631</td>\n",
       "      <td>0.743038</td>\n",
       "      <td>0.743038</td>\n",
       "    </tr>\n",
       "    <tr>\n",
       "      <th>2020-08-27</th>\n",
       "      <td>3501.379883</td>\n",
       "      <td>3468.350098</td>\n",
       "      <td>3485.139893</td>\n",
       "      <td>3484.550049</td>\n",
       "      <td>3929560000</td>\n",
       "      <td>3484.550049</td>\n",
       "      <td>-0.016925</td>\n",
       "      <td>-0.050459</td>\n",
       "      <td>0.050459</td>\n",
       "    </tr>\n",
       "    <tr>\n",
       "      <th>2020-08-28</th>\n",
       "      <td>3509.229980</td>\n",
       "      <td>3484.320068</td>\n",
       "      <td>3494.689941</td>\n",
       "      <td>3508.010010</td>\n",
       "      <td>3855880000</td>\n",
       "      <td>3508.010010</td>\n",
       "      <td>0.381152</td>\n",
       "      <td>0.320913</td>\n",
       "      <td>0.320913</td>\n",
       "    </tr>\n",
       "    <tr>\n",
       "      <th>2020-08-31</th>\n",
       "      <td>3514.770020</td>\n",
       "      <td>3493.250000</td>\n",
       "      <td>3509.729980</td>\n",
       "      <td>3500.310059</td>\n",
       "      <td>4342290000</td>\n",
       "      <td>3500.310059</td>\n",
       "      <td>-0.268394</td>\n",
       "      <td>-0.285060</td>\n",
       "      <td>0.285060</td>\n",
       "    </tr>\n",
       "    <tr>\n",
       "      <th>2020-09-01</th>\n",
       "      <td>3528.030029</td>\n",
       "      <td>3494.600098</td>\n",
       "      <td>3507.439941</td>\n",
       "      <td>3526.649902</td>\n",
       "      <td>4083110000</td>\n",
       "      <td>3526.649902</td>\n",
       "      <td>0.547692</td>\n",
       "      <td>0.476281</td>\n",
       "      <td>0.476281</td>\n",
       "    </tr>\n",
       "  </tbody>\n",
       "</table>\n",
       "</div>"
      ],
      "text/plain": [
       "                   High          Low         Open        Close      Volume  \\\n",
       "Date                                                                         \n",
       "2020-08-26  3481.070068  3444.149902  3449.969971  3478.729980  3754360000   \n",
       "2020-08-27  3501.379883  3468.350098  3485.139893  3484.550049  3929560000   \n",
       "2020-08-28  3509.229980  3484.320068  3494.689941  3508.010010  3855880000   \n",
       "2020-08-31  3514.770020  3493.250000  3509.729980  3500.310059  4342290000   \n",
       "2020-09-01  3528.030029  3494.600098  3507.439941  3526.649902  4083110000   \n",
       "\n",
       "              Adj Close  daily_return  normalized_return  \\\n",
       "Date                                                       \n",
       "2020-08-26  3478.729980      0.833631           0.743038   \n",
       "2020-08-27  3484.550049     -0.016925          -0.050459   \n",
       "2020-08-28  3508.010010      0.381152           0.320913   \n",
       "2020-08-31  3500.310059     -0.268394          -0.285060   \n",
       "2020-09-01  3526.649902      0.547692           0.476281   \n",
       "\n",
       "            normalized_return_abs  \n",
       "Date                               \n",
       "2020-08-26               0.743038  \n",
       "2020-08-27               0.050459  \n",
       "2020-08-28               0.320913  \n",
       "2020-08-31               0.285060  \n",
       "2020-09-01               0.476281  "
      ]
     },
     "execution_count": 6,
     "metadata": {},
     "output_type": "execute_result"
    }
   ],
   "source": [
    "sp500['daily_return'] = (sp500['Adj Close'] - sp500['Open']) / sp500['Open'] * 100\n",
    "# max daily return 10.7%, min daily return -20.4%\n",
    "\n",
    "mean_of_returns = sp500['daily_return'].mean() \n",
    "std_of_returns = sp500['daily_return'].std()\n",
    "\n",
    "# does normalization (actually standardization) need to be done? There's only one index after all\n",
    "# https://towardsai.net/p/data-science/how-when-and-why-should-you-normalize-standardize-rescale-your-data-3f083def38ff?__cf_chl_captcha_tk__=d0894f024036d64e01687dfb1e4ee71e570b4071-1600110863-0-AevMZSkw7V4rF41F1jtaevg80lCpsK24MOeZyw-it7Y_MB8Sqo8bt_uzzuck1FMYIQgHuYd2NYM4E1BDTlK_hekpMC3brqe0ZGzgu_pzTw47nZc4egWtOIKFvAQofqcs0CJciyQPznE2u-mCVeniMQ5WzEB5aMoa-AbfM5D-av5Le3mbnI9KHXFV1EX46tdC9YpL_BZDQW5AyGkLEMQ6_d-wAQR3hyinLdlQrFAywfxLSjFsGg9EJQxYQtmP-OjSrl_RHpDfyGFQuxgudrlvfXighxDwIU0rrShMRK3xQM6k5J_LKW_slcfpaVWod1rfyyOYcWLM2sNSlFoWj4GWpPx0bEDawsX3S4IMda82lYJuUMfp-_LoVQQxONs0dunO7Z3bb5QCGpARWR2DqQZjnbNpFikImemaETXNvUeTpirSQnR58FSltqW8X9JoyoeUNGggdN4UJzBH4c8DA7EsYmAzBE5QY4GDjqNoTKaKLt-WGS-x-hKgWlH5TbqGkZX21W4fWK0R_-6X92hZpUgRO7BE5f4czSua5-AGuw3XLEkvQ4W_CfBgCVp-YDKVgi9rjqrUUaqIVMZwjUxsrd6_soeomJaCVKtJqX8Z9oGw0Dfd\n",
    "sp500['normalized_return'] = normalized_return(mean_of_returns, std_of_returns, sp500['daily_return'])\n",
    "sp500['normalized_return_abs'] = sp500['normalized_return'].abs()\n",
    "\n",
    "print('mean of returns:', mean_of_returns)\n",
    "print('std of returns', std_of_returns)\n",
    "\n",
    "#sp500['normalized_return']\n",
    "sp500.tail()"
   ]
  },
  {
   "cell_type": "code",
   "execution_count": 7,
   "metadata": {},
   "outputs": [
    {
     "data": {
      "text/html": [
       "<div>\n",
       "<style scoped>\n",
       "    .dataframe tbody tr th:only-of-type {\n",
       "        vertical-align: middle;\n",
       "    }\n",
       "\n",
       "    .dataframe tbody tr th {\n",
       "        vertical-align: top;\n",
       "    }\n",
       "\n",
       "    .dataframe thead th {\n",
       "        text-align: right;\n",
       "    }\n",
       "</style>\n",
       "<table border=\"1\" class=\"dataframe\">\n",
       "  <thead>\n",
       "    <tr style=\"text-align: right;\">\n",
       "      <th></th>\n",
       "      <th>High</th>\n",
       "      <th>Low</th>\n",
       "      <th>Open</th>\n",
       "      <th>Close</th>\n",
       "      <th>Volume</th>\n",
       "      <th>Adj Close</th>\n",
       "      <th>daily_return</th>\n",
       "      <th>normalized_return</th>\n",
       "      <th>normalized_return_abs</th>\n",
       "    </tr>\n",
       "  </thead>\n",
       "  <tbody>\n",
       "    <tr>\n",
       "      <th>count</th>\n",
       "      <td>10256.000000</td>\n",
       "      <td>10256.000000</td>\n",
       "      <td>10256.000000</td>\n",
       "      <td>10256.000000</td>\n",
       "      <td>1.025600e+04</td>\n",
       "      <td>10256.000000</td>\n",
       "      <td>10256.000000</td>\n",
       "      <td>1.025600e+04</td>\n",
       "      <td>10256.000000</td>\n",
       "    </tr>\n",
       "    <tr>\n",
       "      <th>mean</th>\n",
       "      <td>1039.078532</td>\n",
       "      <td>1026.516919</td>\n",
       "      <td>1033.009804</td>\n",
       "      <td>1033.247534</td>\n",
       "      <td>1.723535e+09</td>\n",
       "      <td>1033.247534</td>\n",
       "      <td>0.037163</td>\n",
       "      <td>4.649384e-17</td>\n",
       "      <td>0.668549</td>\n",
       "    </tr>\n",
       "    <tr>\n",
       "      <th>std</th>\n",
       "      <td>788.748797</td>\n",
       "      <td>780.755818</td>\n",
       "      <td>784.956725</td>\n",
       "      <td>785.061734</td>\n",
       "      <td>1.818816e+09</td>\n",
       "      <td>785.061734</td>\n",
       "      <td>1.071906</td>\n",
       "      <td>1.000000e+00</td>\n",
       "      <td>0.743639</td>\n",
       "    </tr>\n",
       "    <tr>\n",
       "      <th>min</th>\n",
       "      <td>99.580002</td>\n",
       "      <td>94.230003</td>\n",
       "      <td>98.220001</td>\n",
       "      <td>98.220001</td>\n",
       "      <td>1.499000e+07</td>\n",
       "      <td>98.220001</td>\n",
       "      <td>-20.466931</td>\n",
       "      <td>-1.912863e+01</td>\n",
       "      <td>0.000037</td>\n",
       "    </tr>\n",
       "    <tr>\n",
       "      <th>25%</th>\n",
       "      <td>336.377502</td>\n",
       "      <td>332.622505</td>\n",
       "      <td>334.742500</td>\n",
       "      <td>334.802498</td>\n",
       "      <td>1.744900e+08</td>\n",
       "      <td>334.802498</td>\n",
       "      <td>-0.434467</td>\n",
       "      <td>-4.399917e-01</td>\n",
       "      <td>0.195752</td>\n",
       "    </tr>\n",
       "    <tr>\n",
       "      <th>50%</th>\n",
       "      <td>1020.039978</td>\n",
       "      <td>1000.904999</td>\n",
       "      <td>1010.415009</td>\n",
       "      <td>1010.739990</td>\n",
       "      <td>9.415000e+08</td>\n",
       "      <td>1010.739990</td>\n",
       "      <td>0.055084</td>\n",
       "      <td>1.671866e-02</td>\n",
       "      <td>0.453813</td>\n",
       "    </tr>\n",
       "    <tr>\n",
       "      <th>75%</th>\n",
       "      <td>1402.377472</td>\n",
       "      <td>1383.055023</td>\n",
       "      <td>1394.315033</td>\n",
       "      <td>1394.359985</td>\n",
       "      <td>3.284918e+09</td>\n",
       "      <td>1394.359985</td>\n",
       "      <td>0.541161</td>\n",
       "      <td>4.701882e-01</td>\n",
       "      <td>0.894921</td>\n",
       "    </tr>\n",
       "    <tr>\n",
       "      <th>max</th>\n",
       "      <td>3528.030029</td>\n",
       "      <td>3494.600098</td>\n",
       "      <td>3509.729980</td>\n",
       "      <td>3526.649902</td>\n",
       "      <td>1.145623e+10</td>\n",
       "      <td>3526.649902</td>\n",
       "      <td>10.789006</td>\n",
       "      <td>1.003058e+01</td>\n",
       "      <td>19.128626</td>\n",
       "    </tr>\n",
       "  </tbody>\n",
       "</table>\n",
       "</div>"
      ],
      "text/plain": [
       "               High           Low          Open         Close        Volume  \\\n",
       "count  10256.000000  10256.000000  10256.000000  10256.000000  1.025600e+04   \n",
       "mean    1039.078532   1026.516919   1033.009804   1033.247534  1.723535e+09   \n",
       "std      788.748797    780.755818    784.956725    785.061734  1.818816e+09   \n",
       "min       99.580002     94.230003     98.220001     98.220001  1.499000e+07   \n",
       "25%      336.377502    332.622505    334.742500    334.802498  1.744900e+08   \n",
       "50%     1020.039978   1000.904999   1010.415009   1010.739990  9.415000e+08   \n",
       "75%     1402.377472   1383.055023   1394.315033   1394.359985  3.284918e+09   \n",
       "max     3528.030029   3494.600098   3509.729980   3526.649902  1.145623e+10   \n",
       "\n",
       "          Adj Close  daily_return  normalized_return  normalized_return_abs  \n",
       "count  10256.000000  10256.000000       1.025600e+04           10256.000000  \n",
       "mean    1033.247534      0.037163       4.649384e-17               0.668549  \n",
       "std      785.061734      1.071906       1.000000e+00               0.743639  \n",
       "min       98.220001    -20.466931      -1.912863e+01               0.000037  \n",
       "25%      334.802498     -0.434467      -4.399917e-01               0.195752  \n",
       "50%     1010.739990      0.055084       1.671866e-02               0.453813  \n",
       "75%     1394.359985      0.541161       4.701882e-01               0.894921  \n",
       "max     3526.649902     10.789006       1.003058e+01              19.128626  "
      ]
     },
     "execution_count": 7,
     "metadata": {},
     "output_type": "execute_result"
    }
   ],
   "source": [
    "sp500.describe()"
   ]
  },
  {
   "cell_type": "code",
   "execution_count": 8,
   "metadata": {},
   "outputs": [
    {
     "data": {
      "text/plain": [
       "<AxesSubplot:xlabel='Date'>"
      ]
     },
     "execution_count": 8,
     "metadata": {},
     "output_type": "execute_result"
    },
    {
     "data": {
      "image/png": "[encoded data removed]",
      "text/plain": [
       "<Figure size 432x288 with 1 Axes>"
      ]
     },
     "metadata": {
      "needs_background": "light"
     },
     "output_type": "display_data"
    }
   ],
   "source": [
    "sp500['daily_return'].plot()"
   ]
  },
  {
   "cell_type": "code",
   "execution_count": 9,
   "metadata": {},
   "outputs": [
    {
     "data": {
      "text/plain": [
       "<AxesSubplot:ylabel='Frequency'>"
      ]
     },
     "execution_count": 9,
     "metadata": {},
     "output_type": "execute_result"
    },
    {
     "data": {
      "image/png": "[encoded data removed]",
      "text/plain": [
       "<Figure size 432x288 with 1 Axes>"
      ]
     },
     "metadata": {
      "needs_background": "light"
     },
     "output_type": "display_data"
    }
   ],
   "source": [
    "sp500['daily_return'].plot.hist(bins=100)"
   ]
  },
  {
   "cell_type": "code",
   "execution_count": 10,
   "metadata": {},
   "outputs": [
    {
     "data": {
      "text/plain": [
       "<AxesSubplot:xlabel='daily_return'>"
      ]
     },
     "execution_count": 10,
     "metadata": {},
     "output_type": "execute_result"
    },
    {
     "data": {
      "image/png": "[encoded data removed]",
      "text/plain": [
       "<Figure size 432x288 with 1 Axes>"
      ]
     },
     "metadata": {
      "needs_background": "light"
     },
     "output_type": "display_data"
    }
   ],
   "source": [
    "sns.distplot(sp500['daily_return'])"
   ]
  },
  {
   "cell_type": "code",
   "execution_count": 11,
   "metadata": {},
   "outputs": [
    {
     "data": {
      "text/plain": [
       "<AxesSubplot:xlabel='Date'>"
      ]
     },
     "execution_count": 11,
     "metadata": {},
     "output_type": "execute_result"
    },
    {
     "data": {
      "image/png": "[encoded data removed]",
      "text/plain": [
       "<Figure size 432x288 with 1 Axes>"
      ]
     },
     "metadata": {
      "needs_background": "light"
     },
     "output_type": "display_data"
    }
   ],
   "source": [
    "sp500['normalized_return'].plot()"
   ]
  },
  {
   "cell_type": "code",
   "execution_count": 12,
   "metadata": {},
   "outputs": [
    {
     "data": {
      "text/plain": [
       "<AxesSubplot:ylabel='Frequency'>"
      ]
     },
     "execution_count": 12,
     "metadata": {},
     "output_type": "execute_result"
    },
    {
     "data": {
      "image/png": "[encoded data removed]",
      "text/plain": [
       "<Figure size 432x288 with 1 Axes>"
      ]
     },
     "metadata": {
      "needs_background": "light"
     },
     "output_type": "display_data"
    }
   ],
   "source": [
    "sp500['normalized_return'].plot.hist(bins=100)"
   ]
  },
  {
   "cell_type": "code",
   "execution_count": null,
   "metadata": {},
   "outputs": [],
   "source": []
  },
  {
   "cell_type": "code",
   "execution_count": 13,
   "metadata": {},
   "outputs": [],
   "source": [
    "from sklearn.preprocessing import StandardScaler\n",
    "scaler = StandardScaler() \n",
    "\n",
    "arr = np.array(sp500['normalized_return'])\n",
    "arr2 = arr.reshape(-1, 1)\n",
    "data_scaled = scaler.fit_transform(arr2)"
   ]
  },
  {
   "cell_type": "code",
   "execution_count": 14,
   "metadata": {},
   "outputs": [
    {
     "data": {
      "text/plain": [
       "array([[-1.91892185],\n",
       "       [-0.51103427],\n",
       "       [ 1.11800578],\n",
       "       ...,\n",
       "       [ 0.32092842],\n",
       "       [-0.28507403],\n",
       "       [ 0.4763042 ]])"
      ]
     },
     "execution_count": 14,
     "metadata": {},
     "output_type": "execute_result"
    }
   ],
   "source": [
    "data_scaled"
   ]
  },
  {
   "cell_type": "code",
   "execution_count": 15,
   "metadata": {},
   "outputs": [
    {
     "data": {
      "text/plain": [
       "Date\n",
       "1980-01-02   -1.918828\n",
       "1980-01-03   -0.511009\n",
       "1980-01-04    1.117951\n",
       "1980-01-07    0.219317\n",
       "1980-01-08    1.834483\n",
       "                ...   \n",
       "2020-08-26    0.743038\n",
       "2020-08-27   -0.050459\n",
       "2020-08-28    0.320913\n",
       "2020-08-31   -0.285060\n",
       "2020-09-01    0.476281\n",
       "Name: normalized_return, Length: 10256, dtype: float64"
      ]
     },
     "execution_count": 15,
     "metadata": {},
     "output_type": "execute_result"
    }
   ],
   "source": [
    "sp500['normalized_return']"
   ]
  },
  {
   "cell_type": "code",
   "execution_count": 16,
   "metadata": {},
   "outputs": [
    {
     "name": "stdout",
     "output_type": "stream",
     "text": [
      "data_scaled mean 2.6326661426368768e-17\n",
      "normalized_return mean 4.649383668842675e-17\n",
      "data_scaled std 1.0\n",
      "normalized_return std 0.9999999999999987\n"
     ]
    }
   ],
   "source": [
    "print('data_scaled mean', data_scaled.mean())\n",
    "print('normalized_return mean', sp500['normalized_return'].mean())\n",
    "print('data_scaled std', data_scaled.std())\n",
    "print('normalized_return std', sp500['normalized_return'].std())"
   ]
  },
  {
   "cell_type": "code",
   "execution_count": 17,
   "metadata": {},
   "outputs": [
    {
     "data": {
      "text/plain": [
       "<AxesSubplot:>"
      ]
     },
     "execution_count": 17,
     "metadata": {},
     "output_type": "execute_result"
    },
    {
     "data": {
      "image/png": "[encoded data removed]",
      "text/plain": [
       "<Figure size 432x288 with 1 Axes>"
      ]
     },
     "metadata": {
      "needs_background": "light"
     },
     "output_type": "display_data"
    }
   ],
   "source": [
    "sns.distplot(data_scaled)"
   ]
  },
  {
   "cell_type": "code",
   "execution_count": 18,
   "metadata": {},
   "outputs": [
    {
     "data": {
      "text/plain": [
       "<AxesSubplot:xlabel='normalized_return'>"
      ]
     },
     "execution_count": 18,
     "metadata": {},
     "output_type": "execute_result"
    },
    {
     "data": {
      "image/png": "[encoded data removed]",
      "text/plain": [
       "<Figure size 432x288 with 1 Axes>"
      ]
     },
     "metadata": {
      "needs_background": "light"
     },
     "output_type": "display_data"
    }
   ],
   "source": [
    "sns.distplot(sp500['normalized_return'])"
   ]
  },
  {
   "cell_type": "code",
   "execution_count": 19,
   "metadata": {},
   "outputs": [
    {
     "data": {
      "text/plain": [
       "<AxesSubplot:xlabel='daily_return'>"
      ]
     },
     "execution_count": 19,
     "metadata": {},
     "output_type": "execute_result"
    },
    {
     "data": {
      "image/png": "[encoded data removed]",
      "text/plain": [
       "<Figure size 432x288 with 1 Axes>"
      ]
     },
     "metadata": {
      "needs_background": "light"
     },
     "output_type": "display_data"
    }
   ],
   "source": [
    "sns.distplot(sp500['daily_return'])"
   ]
  },
  {
   "cell_type": "code",
   "execution_count": 20,
   "metadata": {},
   "outputs": [
    {
     "data": {
      "text/plain": [
       "10256"
      ]
     },
     "execution_count": 20,
     "metadata": {},
     "output_type": "execute_result"
    }
   ],
   "source": [
    "#df[(df.a > 1) & (df.a < 3)].sum()\n",
    "#sp500['normalized_return'].sum()\n",
    "np.sum(sp500['normalized_return_abs'] > 0)"
   ]
  },
  {
   "cell_type": "code",
   "execution_count": 21,
   "metadata": {},
   "outputs": [
    {
     "name": "stdout",
     "output_type": "stream",
     "text": [
      "[1.000e-02 2.000e-02 3.000e-02 ... 1.997e+01 1.998e+01 1.999e+01]\n"
     ]
    }
   ],
   "source": [
    "normalized_abs_returns = np.array(sp500['normalized_return_abs'])\n",
    "normalized_returns = np.array(sp500['normalized_return'])\n",
    "\n",
    "x_range = np.arange(0.01, 20, 0.01)\n",
    "\n",
    "print(x_range)\n",
    "\n",
    "probability_distribution_x_pairs = []\n",
    "\n",
    "for x in x_range:\n",
    "    prob = distribution_function(normalized_abs_returns, x)\n",
    "    if prob == 0: break\n",
    "    probability_distribution_x_pairs.append((x, prob))"
   ]
  },
  {
   "cell_type": "code",
   "execution_count": 22,
   "metadata": {},
   "outputs": [
    {
     "data": {
      "image/png": "[encoded data removed]",
      "text/plain": [
       "<Figure size 432x288 with 1 Axes>"
      ]
     },
     "metadata": {
      "needs_background": "light"
     },
     "output_type": "display_data"
    }
   ],
   "source": [
    "plt.scatter(*zip(*probability_distribution_x_pairs))\n",
    "plt.title('Random Figure')\n",
    "plt.xlabel('X-Axis')\n",
    "plt.ylabel('Y-Axis')\n",
    "plt.show()"
   ]
  },
  {
   "cell_type": "code",
   "execution_count": 23,
   "metadata": {},
   "outputs": [
    {
     "data": {
      "text/plain": [
       "<AxesSubplot:>"
      ]
     },
     "execution_count": 23,
     "metadata": {},
     "output_type": "execute_result"
    },
    {
     "data": {
      "image/png": "[encoded data removed]",
      "text/plain": [
       "<Figure size 432x288 with 1 Axes>"
      ]
     },
     "metadata": {
      "needs_background": "light"
     },
     "output_type": "display_data"
    }
   ],
   "source": [
    "sns.distplot(probability_distribution_x_pairs)"
   ]
  },
  {
   "cell_type": "code",
   "execution_count": 24,
   "metadata": {},
   "outputs": [],
   "source": [
    "log_probability_distribution_x_pairs = [(np.log(elem1), np.abs(np.log(elem2))) for elem1, elem2 in probability_distribution_x_pairs]"
   ]
  },
  {
   "cell_type": "code",
   "execution_count": 25,
   "metadata": {},
   "outputs": [
    {
     "data": {
      "image/png": "[encoded data removed]",
      "text/plain": [
       "<Figure size 720x720 with 1 Axes>"
      ]
     },
     "metadata": {
      "needs_background": "light"
     },
     "output_type": "display_data"
    }
   ],
   "source": [
    "f, ax = plt.subplots(figsize=(10, 10))\n",
    "plt.scatter(*zip(*probability_distribution_x_pairs))\n",
    "plt.title('Random Figure')\n",
    "plt.xlabel('X-Axis')\n",
    "plt.ylabel('Y-Axis')\n",
    "plt.xscale('log')\n",
    "plt.yscale('log')\n",
    "plt.show()"
   ]
  },
  {
   "cell_type": "code",
   "execution_count": 26,
   "metadata": {},
   "outputs": [
    {
     "data": {
      "image/png": "[encoded data removed]",
      "text/plain": [
       "<Figure size 432x288 with 1 Axes>"
      ]
     },
     "metadata": {
      "needs_background": "light"
     },
     "output_type": "display_data"
    }
   ],
   "source": [
    "plt.scatter(*zip(*probability_distribution_x_pairs))\n",
    "plt.title('Random Figure')\n",
    "plt.xlabel('X-Axis')\n",
    "plt.ylabel('Y-Axis')\n",
    "plt.xscale('log')\n",
    "plt.yscale('log')\n",
    "plt.show()"
   ]
  },
  {
   "cell_type": "code",
   "execution_count": 27,
   "metadata": {},
   "outputs": [],
   "source": [
    "#import powerlaw\n",
    "#data = np.array(sp500['normalized_return_abs']) # data can be list or numpy array\n",
    "#results = powerlaw.Fit(data)\n",
    "#print(results.power_law.alpha)\n",
    "#print(results.power_law.xmin)\n",
    "#R, p = results.distribution_compare('power_law', 'lognormal')\n",
    "#print(R)\n",
    "#print(p)"
   ]
  },
  {
   "cell_type": "code",
   "execution_count": 28,
   "metadata": {},
   "outputs": [
    {
     "data": {
      "text/html": [
       "<div>\n",
       "<style scoped>\n",
       "    .dataframe tbody tr th:only-of-type {\n",
       "        vertical-align: middle;\n",
       "    }\n",
       "\n",
       "    .dataframe tbody tr th {\n",
       "        vertical-align: top;\n",
       "    }\n",
       "\n",
       "    .dataframe thead th {\n",
       "        text-align: right;\n",
       "    }\n",
       "</style>\n",
       "<table border=\"1\" class=\"dataframe\">\n",
       "  <thead>\n",
       "    <tr style=\"text-align: right;\">\n",
       "      <th></th>\n",
       "      <th>x</th>\n",
       "      <th>prob</th>\n",
       "    </tr>\n",
       "  </thead>\n",
       "  <tbody>\n",
       "    <tr>\n",
       "      <th>0</th>\n",
       "      <td>0.01</td>\n",
       "      <td>0.986837</td>\n",
       "    </tr>\n",
       "    <tr>\n",
       "      <th>1</th>\n",
       "      <td>0.02</td>\n",
       "      <td>0.973479</td>\n",
       "    </tr>\n",
       "    <tr>\n",
       "      <th>2</th>\n",
       "      <td>0.03</td>\n",
       "      <td>0.960316</td>\n",
       "    </tr>\n",
       "    <tr>\n",
       "      <th>3</th>\n",
       "      <td>0.04</td>\n",
       "      <td>0.945983</td>\n",
       "    </tr>\n",
       "    <tr>\n",
       "      <th>4</th>\n",
       "      <td>0.05</td>\n",
       "      <td>0.933502</td>\n",
       "    </tr>\n",
       "    <tr>\n",
       "      <th>...</th>\n",
       "      <td>...</td>\n",
       "      <td>...</td>\n",
       "    </tr>\n",
       "    <tr>\n",
       "      <th>1907</th>\n",
       "      <td>19.08</td>\n",
       "      <td>0.000098</td>\n",
       "    </tr>\n",
       "    <tr>\n",
       "      <th>1908</th>\n",
       "      <td>19.09</td>\n",
       "      <td>0.000098</td>\n",
       "    </tr>\n",
       "    <tr>\n",
       "      <th>1909</th>\n",
       "      <td>19.10</td>\n",
       "      <td>0.000098</td>\n",
       "    </tr>\n",
       "    <tr>\n",
       "      <th>1910</th>\n",
       "      <td>19.11</td>\n",
       "      <td>0.000098</td>\n",
       "    </tr>\n",
       "    <tr>\n",
       "      <th>1911</th>\n",
       "      <td>19.12</td>\n",
       "      <td>0.000098</td>\n",
       "    </tr>\n",
       "  </tbody>\n",
       "</table>\n",
       "<p>1912 rows × 2 columns</p>\n",
       "</div>"
      ],
      "text/plain": [
       "          x      prob\n",
       "0      0.01  0.986837\n",
       "1      0.02  0.973479\n",
       "2      0.03  0.960316\n",
       "3      0.04  0.945983\n",
       "4      0.05  0.933502\n",
       "...     ...       ...\n",
       "1907  19.08  0.000098\n",
       "1908  19.09  0.000098\n",
       "1909  19.10  0.000098\n",
       "1910  19.11  0.000098\n",
       "1911  19.12  0.000098\n",
       "\n",
       "[1912 rows x 2 columns]"
      ]
     },
     "execution_count": 28,
     "metadata": {},
     "output_type": "execute_result"
    }
   ],
   "source": [
    "df = pd.DataFrame(data=probability_distribution_x_pairs, columns=[\"x\", \"prob\"])\n",
    "df"
   ]
  },
  {
   "cell_type": "code",
   "execution_count": 29,
   "metadata": {},
   "outputs": [],
   "source": [
    "#model = ols('x ~ prob', data=log_probability_distribution_x_pairs).fit()\n",
    "#model.summary()"
   ]
  },
  {
   "cell_type": "code",
   "execution_count": 30,
   "metadata": {},
   "outputs": [],
   "source": [
    "X = np.array(df['x'])\n",
    "Y = np.array(df['prob'])\n",
    "X_log = np.log(X)\n",
    "Y_log = np.log(Y)"
   ]
  },
  {
   "cell_type": "code",
   "execution_count": 31,
   "metadata": {},
   "outputs": [
    {
     "data": {
      "text/html": [
       "<table class=\"simpletable\">\n",
       "<caption>OLS Regression Results</caption>\n",
       "<tr>\n",
       "  <th>Dep. Variable:</th>          <td>prob</td>       <th>  R-squared:         </th> <td>   0.920</td> \n",
       "</tr>\n",
       "<tr>\n",
       "  <th>Model:</th>                   <td>OLS</td>       <th>  Adj. R-squared:    </th> <td>   0.920</td> \n",
       "</tr>\n",
       "<tr>\n",
       "  <th>Method:</th>             <td>Least Squares</td>  <th>  F-statistic:       </th> <td>2.202e+04</td>\n",
       "</tr>\n",
       "<tr>\n",
       "  <th>Date:</th>             <td>Wed, 16 Sep 2020</td> <th>  Prob (F-statistic):</th>  <td>  0.00</td>  \n",
       "</tr>\n",
       "<tr>\n",
       "  <th>Time:</th>                 <td>12:28:42</td>     <th>  Log-Likelihood:    </th> <td> -2117.0</td> \n",
       "</tr>\n",
       "<tr>\n",
       "  <th>No. Observations:</th>      <td>  1912</td>      <th>  AIC:               </th> <td>   4238.</td> \n",
       "</tr>\n",
       "<tr>\n",
       "  <th>Df Residuals:</th>          <td>  1910</td>      <th>  BIC:               </th> <td>   4249.</td> \n",
       "</tr>\n",
       "<tr>\n",
       "  <th>Df Model:</th>              <td>     1</td>      <th>                     </th>     <td> </td>    \n",
       "</tr>\n",
       "<tr>\n",
       "  <th>Covariance Type:</th>      <td>nonrobust</td>    <th>                     </th>     <td> </td>    \n",
       "</tr>\n",
       "</table>\n",
       "<table class=\"simpletable\">\n",
       "<tr>\n",
       "      <td></td>         <th>coef</th>     <th>std err</th>      <th>t</th>      <th>P>|t|</th>  <th>[0.025</th>    <th>0.975]</th>  \n",
       "</tr>\n",
       "<tr>\n",
       "  <th>Intercept</th> <td>   -2.3113</td> <td>    0.037</td> <td>  -62.414</td> <td> 0.000</td> <td>   -2.384</td> <td>   -2.239</td>\n",
       "</tr>\n",
       "<tr>\n",
       "  <th>x</th>         <td>   -2.5090</td> <td>    0.017</td> <td> -148.384</td> <td> 0.000</td> <td>   -2.542</td> <td>   -2.476</td>\n",
       "</tr>\n",
       "</table>\n",
       "<table class=\"simpletable\">\n",
       "<tr>\n",
       "  <th>Omnibus:</th>       <td>1475.502</td> <th>  Durbin-Watson:     </th> <td>   0.007</td> \n",
       "</tr>\n",
       "<tr>\n",
       "  <th>Prob(Omnibus):</th>  <td> 0.000</td>  <th>  Jarque-Bera (JB):  </th> <td>64928.318</td>\n",
       "</tr>\n",
       "<tr>\n",
       "  <th>Skew:</th>           <td>-3.204</td>  <th>  Prob(JB):          </th> <td>    0.00</td> \n",
       "</tr>\n",
       "<tr>\n",
       "  <th>Kurtosis:</th>       <td>30.820</td>  <th>  Cond. No.          </th> <td>    5.67</td> \n",
       "</tr>\n",
       "</table><br/><br/>Warnings:<br/>[1] Standard Errors assume that the covariance matrix of the errors is correctly specified."
      ],
      "text/plain": [
       "<class 'statsmodels.iolib.summary.Summary'>\n",
       "\"\"\"\n",
       "                            OLS Regression Results                            \n",
       "==============================================================================\n",
       "Dep. Variable:                   prob   R-squared:                       0.920\n",
       "Model:                            OLS   Adj. R-squared:                  0.920\n",
       "Method:                 Least Squares   F-statistic:                 2.202e+04\n",
       "Date:                Wed, 16 Sep 2020   Prob (F-statistic):               0.00\n",
       "Time:                        12:28:42   Log-Likelihood:                -2117.0\n",
       "No. Observations:                1912   AIC:                             4238.\n",
       "Df Residuals:                    1910   BIC:                             4249.\n",
       "Df Model:                           1                                         \n",
       "Covariance Type:            nonrobust                                         \n",
       "==============================================================================\n",
       "                 coef    std err          t      P>|t|      [0.025      0.975]\n",
       "------------------------------------------------------------------------------\n",
       "Intercept     -2.3113      0.037    -62.414      0.000      -2.384      -2.239\n",
       "x             -2.5090      0.017   -148.384      0.000      -2.542      -2.476\n",
       "==============================================================================\n",
       "Omnibus:                     1475.502   Durbin-Watson:                   0.007\n",
       "Prob(Omnibus):                  0.000   Jarque-Bera (JB):            64928.318\n",
       "Skew:                          -3.204   Prob(JB):                         0.00\n",
       "Kurtosis:                      30.820   Cond. No.                         5.67\n",
       "==============================================================================\n",
       "\n",
       "Warnings:\n",
       "[1] Standard Errors assume that the covariance matrix of the errors is correctly specified.\n",
       "\"\"\""
      ]
     },
     "execution_count": 31,
     "metadata": {},
     "output_type": "execute_result"
    }
   ],
   "source": [
    "dflog = np.log(df[['x', 'prob']])\n",
    "mo = ols('prob ~ x', dflog ).fit()\n",
    "mo.summary()"
   ]
  },
  {
   "cell_type": "code",
   "execution_count": 32,
   "metadata": {},
   "outputs": [
    {
     "name": "stdout",
     "output_type": "stream",
     "text": [
      "                            OLS Regression Results                            \n",
      "==============================================================================\n",
      "Dep. Variable:                      y   R-squared:                       0.194\n",
      "Model:                            OLS   Adj. R-squared:                  0.194\n",
      "Method:                 Least Squares   F-statistic:                     460.0\n",
      "Date:                Wed, 16 Sep 2020   Prob (F-statistic):           1.33e-91\n",
      "Time:                        12:28:42   Log-Likelihood:                 1457.4\n",
      "No. Observations:                1912   AIC:                            -2911.\n",
      "Df Residuals:                    1910   BIC:                            -2900.\n",
      "Df Model:                           1                                         \n",
      "Covariance Type:            nonrobust                                         \n",
      "==============================================================================\n",
      "                 coef    std err          t      P>|t|      [0.025      0.975]\n",
      "------------------------------------------------------------------------------\n",
      "const          0.1307      0.005     25.290      0.000       0.121       0.141\n",
      "x1            -0.0100      0.000    -21.447      0.000      -0.011      -0.009\n",
      "==============================================================================\n",
      "Omnibus:                     1700.819   Durbin-Watson:                   0.000\n",
      "Prob(Omnibus):                  0.000   Jarque-Bera (JB):            46651.471\n",
      "Skew:                           4.257   Prob(JB):                         0.00\n",
      "Kurtosis:                      25.651   Cond. No.                         22.2\n",
      "==============================================================================\n",
      "\n",
      "Warnings:\n",
      "[1] Standard Errors assume that the covariance matrix of the errors is correctly specified.\n"
     ]
    }
   ],
   "source": [
    "X = sm.add_constant(X) \n",
    "result = sm.OLS(Y, X).fit()\n",
    "print(result.summary())"
   ]
  },
  {
   "cell_type": "code",
   "execution_count": 33,
   "metadata": {},
   "outputs": [
    {
     "name": "stdout",
     "output_type": "stream",
     "text": [
      "                            OLS Regression Results                            \n",
      "==============================================================================\n",
      "Dep. Variable:                      y   R-squared:                       0.920\n",
      "Model:                            OLS   Adj. R-squared:                  0.920\n",
      "Method:                 Least Squares   F-statistic:                 2.202e+04\n",
      "Date:                Wed, 16 Sep 2020   Prob (F-statistic):               0.00\n",
      "Time:                        12:28:42   Log-Likelihood:                -2117.0\n",
      "No. Observations:                1912   AIC:                             4238.\n",
      "Df Residuals:                    1910   BIC:                             4249.\n",
      "Df Model:                           1                                         \n",
      "Covariance Type:            nonrobust                                         \n",
      "==============================================================================\n",
      "                 coef    std err          t      P>|t|      [0.025      0.975]\n",
      "------------------------------------------------------------------------------\n",
      "const         -2.3113      0.037    -62.414      0.000      -2.384      -2.239\n",
      "x1            -2.5090      0.017   -148.384      0.000      -2.542      -2.476\n",
      "==============================================================================\n",
      "Omnibus:                     1475.502   Durbin-Watson:                   0.007\n",
      "Prob(Omnibus):                  0.000   Jarque-Bera (JB):            64928.318\n",
      "Skew:                          -3.204   Prob(JB):                         0.00\n",
      "Kurtosis:                      30.820   Cond. No.                         5.67\n",
      "==============================================================================\n",
      "\n",
      "Warnings:\n",
      "[1] Standard Errors assume that the covariance matrix of the errors is correctly specified.\n"
     ]
    }
   ],
   "source": [
    "X_log = sm.add_constant(X_log) \n",
    "result = sm.OLS(Y_log, X_log).fit()\n",
    "print(result.summary())"
   ]
  },
  {
   "cell_type": "code",
   "execution_count": 34,
   "metadata": {},
   "outputs": [],
   "source": [
    "# Y=Xβ+μ, where  μ∼N(0,Σ)\n",
    "# model = ols(Y, X)\n",
    "# y=prop dist, x=std dev\n",
    "\n",
    "# ln P(|x|>r) = -alfa ln x + b\n",
    "\n",
    "\n",
    "#result = sm.OLS(y, x).fit() "
   ]
  },
  {
   "cell_type": "code",
   "execution_count": 35,
   "metadata": {},
   "outputs": [
    {
     "name": "stdout",
     "output_type": "stream",
     "text": [
      "                            OLS Regression Results                            \n",
      "==============================================================================\n",
      "Dep. Variable:                      y   R-squared:                       1.000\n",
      "Model:                            OLS   Adj. R-squared:                  1.000\n",
      "Method:                 Least Squares   F-statistic:                 5.189e+06\n",
      "Date:                Wed, 16 Sep 2020   Prob (F-statistic):          1.19e-244\n",
      "Time:                        12:28:42   Log-Likelihood:                -133.82\n",
      "No. Observations:                 100   AIC:                             273.6\n",
      "Df Residuals:                      97   BIC:                             281.4\n",
      "Df Model:                           2                                         \n",
      "Covariance Type:            nonrobust                                         \n",
      "==============================================================================\n",
      "                 coef    std err          t      P>|t|      [0.025      0.975]\n",
      "------------------------------------------------------------------------------\n",
      "const          1.0694      0.275      3.883      0.000       0.523       1.616\n",
      "x1             0.0532      0.127      0.418      0.677      -0.199       0.306\n",
      "x2            10.0076      0.012    812.425      0.000       9.983      10.032\n",
      "==============================================================================\n",
      "Omnibus:                        0.468   Durbin-Watson:                   2.109\n",
      "Prob(Omnibus):                  0.791   Jarque-Bera (JB):                0.624\n",
      "Skew:                           0.101   Prob(JB):                        0.732\n",
      "Kurtosis:                       2.670   Cond. No.                         144.\n",
      "==============================================================================\n",
      "\n",
      "Warnings:\n",
      "[1] Standard Errors assume that the covariance matrix of the errors is correctly specified.\n"
     ]
    }
   ],
   "source": [
    "nsample = 100\n",
    "x = np.linspace(0, 10, 100)\n",
    "X = np.column_stack((x, x**2))\n",
    "beta = np.array([1, 0.1, 10])\n",
    "e = np.random.normal(size=nsample)\n",
    "X = sm.add_constant(X)\n",
    "y = np.dot(X, beta) + e\n",
    "model = sm.OLS(y, X)\n",
    "results = model.fit()\n",
    "print(results.summary())"
   ]
  },
  {
   "cell_type": "code",
   "execution_count": 36,
   "metadata": {},
   "outputs": [
    {
     "data": {
      "text/html": [
       "<div>\n",
       "<style scoped>\n",
       "    .dataframe tbody tr th:only-of-type {\n",
       "        vertical-align: middle;\n",
       "    }\n",
       "\n",
       "    .dataframe tbody tr th {\n",
       "        vertical-align: top;\n",
       "    }\n",
       "\n",
       "    .dataframe thead th {\n",
       "        text-align: right;\n",
       "    }\n",
       "</style>\n",
       "<table border=\"1\" class=\"dataframe\">\n",
       "  <thead>\n",
       "    <tr style=\"text-align: right;\">\n",
       "      <th></th>\n",
       "      <th>x</th>\n",
       "      <th>prob_hat</th>\n",
       "      <th>prob</th>\n",
       "    </tr>\n",
       "  </thead>\n",
       "  <tbody>\n",
       "    <tr>\n",
       "      <th>0</th>\n",
       "      <td>0.01</td>\n",
       "      <td>100000.000000</td>\n",
       "      <td>0.986837</td>\n",
       "    </tr>\n",
       "    <tr>\n",
       "      <th>1</th>\n",
       "      <td>0.02</td>\n",
       "      <td>17677.669530</td>\n",
       "      <td>0.973479</td>\n",
       "    </tr>\n",
       "    <tr>\n",
       "      <th>2</th>\n",
       "      <td>0.03</td>\n",
       "      <td>6415.002991</td>\n",
       "      <td>0.960316</td>\n",
       "    </tr>\n",
       "    <tr>\n",
       "      <th>3</th>\n",
       "      <td>0.04</td>\n",
       "      <td>3125.000000</td>\n",
       "      <td>0.945983</td>\n",
       "    </tr>\n",
       "  </tbody>\n",
       "</table>\n",
       "</div>"
      ],
      "text/plain": [
       "      x       prob_hat      prob\n",
       "0  0.01  100000.000000  0.986837\n",
       "1  0.02   17677.669530  0.973479\n",
       "2  0.03    6415.002991  0.960316\n",
       "3  0.04    3125.000000  0.945983"
      ]
     },
     "execution_count": 36,
     "metadata": {},
     "output_type": "execute_result"
    }
   ],
   "source": [
    "df = pd.DataFrame(data=probability_distribution_x_pairs, columns=[\"x\", \"prob\"])\n",
    "prob_hat = df['x'] ** (-2.5)\n",
    "df.insert(loc=1, value=prob_hat, column='prob_hat')\n",
    "df.head(4)"
   ]
  },
  {
   "cell_type": "markdown",
   "metadata": {},
   "source": [
    "$$ log(foo) = e^{foo - bar} \\zeta $$"
   ]
  },
  {
   "cell_type": "code",
   "execution_count": 37,
   "metadata": {},
   "outputs": [
    {
     "data": {
      "image/png": "[encoded data removed]",
      "text/plain": [
       "<Figure size 720x432 with 1 Axes>"
      ]
     },
     "metadata": {
      "needs_background": "light"
     },
     "output_type": "display_data"
    }
   ],
   "source": [
    "matplotlib.rcParams.update({'font.size': 18})\n",
    "fig, axe = plt.subplots(figsize=(10, 6))\n",
    "\n",
    "#plt.scatter(df['x'], df['prob'], s=50, color='red', label='Prob')\n",
    "\n",
    "plt.step(df['x'], df['prob'], color='red', label='Prob')\n",
    "#plt.plot(df['x'], df['prob_hat'], lw=3, color='blue', label='Prob_hat')\n",
    "#plt.plot(df[['time']], df[['score_hat']], r'g*', markersize=10)\n",
    "#plt.legend(loc=1)\n",
    "#plt.grid(True)\n",
    "#plt.title('Actual Score vs Predicted')\n",
    "#plt.ylabel('Score')\n",
    "#plt.xlabel('Time (in seconds)')\n",
    "\n",
    "plt.title('Standard deviations of range 0<=x<=20, slope = -2.5090')\n",
    "plt.xlabel('x (standard deviations)')\n",
    "plt.ylabel('P(|x|>0)')\n",
    "plt.xscale('log')\n",
    "plt.yscale('log')\n",
    "#plt.show()"
   ]
  },
  {
   "cell_type": "code",
   "execution_count": null,
   "metadata": {},
   "outputs": [],
   "source": []
  },
  {
   "cell_type": "code",
   "execution_count": null,
   "metadata": {},
   "outputs": [],
   "source": []
  }
 ],
 "metadata": {
  "kernelspec": {
   "display_name": "Python 3",
   "language": "python",
   "name": "python3"
  },
  "language_info": {
   "codemirror_mode": {
    "name": "ipython",
    "version": 3
   },
   "file_extension": ".py",
   "mimetype": "text/x-python",
   "name": "python",
   "nbconvert_exporter": "python",
   "pygments_lexer": "ipython3",
   "version": "3.7.3"
  }
 },
 "nbformat": 4,
 "nbformat_minor": 4
}
